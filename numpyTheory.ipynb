{
 "cells": [
  {
   "cell_type": "code",
   "execution_count": 3,
   "id": "bb603418-0617-4cb7-ab3c-32b3a98a62d8",
   "metadata": {},
   "outputs": [],
   "source": [
    "import numpy as np"
   ]
  },
  {
   "cell_type": "code",
   "execution_count": null,
   "id": "86d5f540-36e5-4dfd-9178-f762569a4723",
   "metadata": {},
   "outputs": [],
   "source": [
    "#массив, как преобразовать его"
   ]
  },
  {
   "cell_type": "code",
   "execution_count": 4,
   "id": "c324d3a9-2f1e-4e71-854c-23bbd497bf6c",
   "metadata": {},
   "outputs": [],
   "source": [
    "my_list = [1,2,3,4,5,6,7,8]"
   ]
  },
  {
   "cell_type": "code",
   "execution_count": 5,
   "id": "c7551686-f581-4037-b8b2-f50c6090c938",
   "metadata": {},
   "outputs": [],
   "source": [
    "my_array = np.array(my_list)"
   ]
  },
  {
   "cell_type": "code",
   "execution_count": 7,
   "id": "5cc38077-643e-46d3-ae9b-7aec1b888ecc",
   "metadata": {},
   "outputs": [
    {
     "data": {
      "text/plain": [
       "array([1, 2, 3, 4, 5, 6, 7, 8])"
      ]
     },
     "execution_count": 7,
     "metadata": {},
     "output_type": "execute_result"
    }
   ],
   "source": [
    "type(my_array)\n",
    "my_array"
   ]
  },
  {
   "cell_type": "code",
   "execution_count": 8,
   "id": "77fd29f3-dd53-4cb2-8d25-221edf08f179",
   "metadata": {},
   "outputs": [
    {
     "data": {
      "text/plain": [
       "array([10, 20, 30, 40, 50, 60, 70, 80])"
      ]
     },
     "execution_count": 8,
     "metadata": {},
     "output_type": "execute_result"
    }
   ],
   "source": [
    "my_array * 10"
   ]
  },
  {
   "cell_type": "code",
   "execution_count": 10,
   "id": "6bb832da-2ca0-48b6-9def-5b67d36fa035",
   "metadata": {},
   "outputs": [],
   "source": [
    "my_tuple = (1,2,5,6,7,9)"
   ]
  },
  {
   "cell_type": "code",
   "execution_count": 11,
   "id": "79c4b09c-93a7-4dbf-a061-239fecd15c31",
   "metadata": {},
   "outputs": [
    {
     "data": {
      "text/plain": [
       "array([1, 2, 5, 6, 7, 9])"
      ]
     },
     "execution_count": 11,
     "metadata": {},
     "output_type": "execute_result"
    }
   ],
   "source": [
    "np.array(my_tuple)"
   ]
  },
  {
   "cell_type": "code",
   "execution_count": 16,
   "id": "54a70465-9302-46d2-a05c-ba4579770313",
   "metadata": {},
   "outputs": [],
   "source": [
    "###создание массива"
   ]
  },
  {
   "cell_type": "code",
   "execution_count": 13,
   "id": "48148877-b68f-48fc-9a12-f7894a9c92a0",
   "metadata": {},
   "outputs": [
    {
     "data": {
      "text/plain": [
       "array([0, 1, 2, 3, 4, 5, 6, 7, 8, 9])"
      ]
     },
     "execution_count": 13,
     "metadata": {},
     "output_type": "execute_result"
    }
   ],
   "source": [
    "np.arange(10) # создает массив , 10 включена не будет"
   ]
  },
  {
   "cell_type": "code",
   "execution_count": 14,
   "id": "5ea42a4f-4e71-4077-8ebf-ae83e9b27a26",
   "metadata": {},
   "outputs": [
    {
     "data": {
      "text/plain": [
       "array([ 1,  3,  5,  7,  9, 11, 13, 15, 17, 19, 21, 23, 25, 27, 29, 31, 33,\n",
       "       35, 37, 39, 41, 43, 45, 47, 49, 51, 53, 55, 57, 59, 61, 63, 65, 67,\n",
       "       69, 71, 73, 75, 77, 79, 81, 83, 85, 87, 89, 91, 93, 95, 97, 99])"
      ]
     },
     "execution_count": 14,
     "metadata": {},
     "output_type": "execute_result"
    }
   ],
   "source": [
    "np.arange(1,100,2) # от одного до ста с шагом == 2"
   ]
  },
  {
   "cell_type": "code",
   "execution_count": null,
   "id": "7a5ffb8e-3f56-4bd0-9d86-9474dad1342d",
   "metadata": {},
   "outputs": [],
   "source": [
    "#linspace\n",
    "numpy.linspace() - это функция библиотеки NumPy, которая создает одномерный массив чисел (линейную последовательность) \n",
    "в заданном диапазоне с равномерным распределением значений.\n",
    "numpy.linspace(start, stop, num=50, endpoint=True, retstep=False, dtype=None, axis=0)\n",
    "\n",
    "start: Начальное значение последовательности.\n",
    "stop: Конечное значение последовательности.\n",
    "num: Количество чисел для генерации (по умолчанию 50).\n",
    "endpoint: Булевое значение, указывающее, следует ли включать stop в выходной массив (по умолчанию True).\n",
    "retstep: Если True, функция вернет шаг между значениями (по умолчанию False).\n",
    "dtype: Тип данных для выходного массива (если не указан, будет определен автоматически).\n",
    "axis: Ось, по которой будет создаваться массив (по умолчанию 0)."
   ]
  },
  {
   "cell_type": "code",
   "execution_count": 18,
   "id": "805a9d8a-481b-4746-968f-f395a1e2ae36",
   "metadata": {},
   "outputs": [
    {
     "data": {
      "text/plain": [
       "array([ 0.,  3.,  6.,  9., 12., 15., 18., 21., 24., 27., 30.])"
      ]
     },
     "execution_count": 18,
     "metadata": {},
     "output_type": "execute_result"
    }
   ],
   "source": [
    "np.linspace(0, 30, 11)"
   ]
  },
  {
   "cell_type": "code",
   "execution_count": 21,
   "id": "34ce1153-3513-47a5-b0d7-bfb1effe706e",
   "metadata": {},
   "outputs": [
    {
     "data": {
      "text/plain": [
       "(array([ 0.,  3.,  6.,  9., 12., 15., 18., 21., 24., 27., 30.]), 3.0)"
      ]
     },
     "execution_count": 21,
     "metadata": {},
     "output_type": "execute_result"
    }
   ],
   "source": [
    "np.linspace(0, 30, 11, retstep=True) #в конце вывордит шаг, через какое числа расставлены"
   ]
  },
  {
   "cell_type": "code",
   "execution_count": null,
   "id": "c10a201c-3120-449c-b236-17bc5c59ae22",
   "metadata": {},
   "outputs": [],
   "source": [
    "#узнать количество элементов"
   ]
  },
  {
   "cell_type": "code",
   "execution_count": null,
   "id": "c4b229e4-bbed-4448-9b48-457efcee6a0e",
   "metadata": {},
   "outputs": [],
   "source": [
    "np.linspace(0, 30, 11).size"
   ]
  },
  {
   "cell_type": "code",
   "execution_count": null,
   "id": "5138d26b-f404-4efa-9da1-03accbf56c59",
   "metadata": {},
   "outputs": [],
   "source": [
    "#zeros()"
   ]
  },
  {
   "cell_type": "code",
   "execution_count": 22,
   "id": "add4ff44-8320-494b-90c8-4a56891d208d",
   "metadata": {},
   "outputs": [
    {
     "data": {
      "text/plain": [
       "array([0., 0., 0., 0., 0., 0., 0., 0., 0., 0.])"
      ]
     },
     "execution_count": 22,
     "metadata": {},
     "output_type": "execute_result"
    }
   ],
   "source": [
    "np.zeros(10) #массив из десяти элементов '0'"
   ]
  },
  {
   "cell_type": "code",
   "execution_count": null,
   "id": "a2ff577f-c63e-43e4-9697-a11d62f9b7ac",
   "metadata": {},
   "outputs": [],
   "source": [
    "#ones()"
   ]
  },
  {
   "cell_type": "code",
   "execution_count": 23,
   "id": "7b0f5683-c327-4cc3-8a65-9586541fb7ba",
   "metadata": {},
   "outputs": [
    {
     "data": {
      "text/plain": [
       "array([1., 1., 1., 1., 1., 1., 1., 1., 1., 1.])"
      ]
     },
     "execution_count": 23,
     "metadata": {},
     "output_type": "execute_result"
    }
   ],
   "source": [
    "np.ones(10) #массив из десяти элементов '1'"
   ]
  },
  {
   "cell_type": "code",
   "execution_count": 24,
   "id": "44049aa3-225d-4f95-a11d-593306d90c26",
   "metadata": {},
   "outputs": [
    {
     "data": {
      "text/plain": [
       "array([[0., 0., 0., 0., 0.],\n",
       "       [0., 0., 0., 0., 0.],\n",
       "       [0., 0., 0., 0., 0.],\n",
       "       [0., 0., 0., 0., 0.],\n",
       "       [0., 0., 0., 0., 0.],\n",
       "       [0., 0., 0., 0., 0.],\n",
       "       [0., 0., 0., 0., 0.],\n",
       "       [0., 0., 0., 0., 0.],\n",
       "       [0., 0., 0., 0., 0.],\n",
       "       [0., 0., 0., 0., 0.]])"
      ]
     },
     "execution_count": 24,
     "metadata": {},
     "output_type": "execute_result"
    }
   ],
   "source": [
    "np.zeros((10,5)) # создает 10 строк и 5 колонок"
   ]
  },
  {
   "cell_type": "code",
   "execution_count": 25,
   "id": "4ef14ba0-5a92-4353-ade0-2c5771521f3c",
   "metadata": {},
   "outputs": [
    {
     "data": {
      "text/plain": [
       "array(['', '', '', '', '', '', '', '', '', '', ''], dtype='<U1')"
      ]
     },
     "execution_count": 25,
     "metadata": {},
     "output_type": "execute_result"
    }
   ],
   "source": [
    "np.zeros(11, dtype='str') #массив заполняется пустыми строками"
   ]
  },
  {
   "cell_type": "code",
   "execution_count": null,
   "id": "f0d08440-e067-4eca-a487-d27876b8034e",
   "metadata": {},
   "outputs": [],
   "source": [
    "#векторы"
   ]
  },
  {
   "cell_type": "code",
   "execution_count": 33,
   "id": "e69cc7e6-c70e-49d6-8605-b656695e9f27",
   "metadata": {},
   "outputs": [
    {
     "data": {
      "text/plain": [
       "array([ 0,  1,  2,  3,  4,  5,  6,  7,  8,  9, 10, 11, 12, 13, 14, 15, 16,\n",
       "       17, 18, 19, 20, 21, 22, 23, 24, 25, 26, 27, 28, 29, 30, 31, 32, 33,\n",
       "       34])"
      ]
     },
     "execution_count": 33,
     "metadata": {},
     "output_type": "execute_result"
    }
   ],
   "source": [
    "ave_array = np.arange(35)\n",
    "ave_array"
   ]
  },
  {
   "cell_type": "code",
   "execution_count": null,
   "id": "948c90f2-c18f-4f1e-a9be-0db51e93f351",
   "metadata": {},
   "outputs": [],
   "source": [
    "#обращаемся по индексу"
   ]
  },
  {
   "cell_type": "code",
   "execution_count": 34,
   "id": "509efb86-fd7d-4f3c-bc0e-11cfe64de61f",
   "metadata": {},
   "outputs": [
    {
     "data": {
      "text/plain": [
       "1"
      ]
     },
     "execution_count": 34,
     "metadata": {},
     "output_type": "execute_result"
    }
   ],
   "source": [
    "ave_array[1]"
   ]
  },
  {
   "cell_type": "code",
   "execution_count": 39,
   "id": "cab419e1-1ae8-424b-bee7-ef7d147db48d",
   "metadata": {},
   "outputs": [
    {
     "data": {
      "text/plain": [
       "array([[ 0,  1,  2,  3,  4],\n",
       "       [ 5,  6,  7,  8,  9],\n",
       "       [10, 11, 12, 13, 14],\n",
       "       [15, 16, 17, 18, 19],\n",
       "       [20, 21, 22, 23, 24],\n",
       "       [25, 26, 27, 28, 29],\n",
       "       [30, 31, 32, 33, 34]])"
      ]
     },
     "execution_count": 39,
     "metadata": {},
     "output_type": "execute_result"
    }
   ],
   "source": [
    "ave_array.shape = (7, 5)  # если мы просто прописываем ave_array.shape, то мы узнаем размер , \n",
    "#а если мы еще ставим = то можем сами выбрать как будет выглядеть \n",
    "ave_array"
   ]
  },
  {
   "cell_type": "code",
   "execution_count": 40,
   "id": "4bc3fed5-1a9c-46c0-8ad8-4b44c2ed12bd",
   "metadata": {},
   "outputs": [
    {
     "data": {
      "text/plain": [
       "array([5, 6, 7, 8, 9])"
      ]
     },
     "execution_count": 40,
     "metadata": {},
     "output_type": "execute_result"
    }
   ],
   "source": [
    "ave_array[1] #уже выводит строку"
   ]
  },
  {
   "cell_type": "code",
   "execution_count": 42,
   "id": "ddcb3d86-c5ce-4fa4-8605-e0c4e4738b3e",
   "metadata": {},
   "outputs": [
    {
     "data": {
      "text/plain": [
       "28"
      ]
     },
     "execution_count": 42,
     "metadata": {},
     "output_type": "execute_result"
    }
   ],
   "source": [
    "ave_array[5, 3] #ave_array[строка, столбец]"
   ]
  },
  {
   "cell_type": "code",
   "execution_count": 46,
   "id": "adcddb84-5c85-42e1-95a6-f5a2726fc3ab",
   "metadata": {},
   "outputs": [
    {
     "data": {
      "text/plain": [
       "array([[False, False, False, False, False],\n",
       "       [False, False, False, False, False],\n",
       "       [False,  True,  True,  True,  True],\n",
       "       [ True,  True,  True,  True,  True],\n",
       "       [ True,  True,  True,  True,  True],\n",
       "       [ True,  True,  True,  True,  True],\n",
       "       [ True,  True,  True,  True,  True]])"
      ]
     },
     "execution_count": 46,
     "metadata": {},
     "output_type": "execute_result"
    }
   ],
   "source": [
    "zero_mod_2_mask = 0 == (ave_array % 2)\n",
    "'''ave_array % 2: Вычисляет остаток от деления каждого элемента массива ave_array на 2. \n",
    "Это дает нам массив, в котором каждый элемент равен остатку от деления соответствующего элемента массива ave_array на 2.\n",
    "0 == (ave_array % 2): Сравнивает каждый элемент полученного массива с 0. Если остаток от деления элемента на 2 равен 0, т\n",
    "о это значит, что элемент четный, и условие вернет True, в противном случае - False. Таким образом, мы создаем булев массив, \n",
    "где True соответствует четным элементам массива ave_array, а False - нечетным.'''\n",
    "zero_mod_2_mask"
   ]
  },
  {
   "cell_type": "code",
   "execution_count": 48,
   "id": "c5b8e39b-99eb-445c-967f-2abd633f7c9d",
   "metadata": {},
   "outputs": [
    {
     "data": {
      "text/plain": [
       "array([[False, False, False, False, False],\n",
       "       [False, False, False, False, False],\n",
       "       [False,  True,  True,  True,  True],\n",
       "       [ True,  True,  True,  True,  True],\n",
       "       [ True,  True,  True,  True,  True],\n",
       "       [ True,  True,  True,  True,  True],\n",
       "       [ True,  True,  True,  True,  True]])"
      ]
     },
     "execution_count": 48,
     "metadata": {},
     "output_type": "execute_result"
    }
   ],
   "source": [
    "'''так можно играться, например :'''\n",
    "zero_mod_mask = 10 < (ave_array) #то есть в правой части мы прописываем условие, и оно уже потом выводит \n",
    "#true или false для каждого значения\n",
    "zero_mod_mask"
   ]
  },
  {
   "cell_type": "code",
   "execution_count": 58,
   "id": "a232c5a1-a593-44a4-9711-0f0a9aeff1ca",
   "metadata": {},
   "outputs": [
    {
     "data": {
      "text/plain": [
       "array([[ True, False,  True, False,  True],\n",
       "       [False,  True, False,  True, False],\n",
       "       [ True, False,  True, False,  True],\n",
       "       [False,  True, False,  True, False],\n",
       "       [ True, False,  True, False,  True],\n",
       "       [False,  True, False,  True, False],\n",
       "       [ True, False,  True, False,  True]])"
      ]
     },
     "execution_count": 58,
     "metadata": {},
     "output_type": "execute_result"
    }
   ],
   "source": [
    "zero_mod_mask1 = 0 == (ave_array % 2)\n",
    "zero_mod_mask1"
   ]
  },
  {
   "cell_type": "code",
   "execution_count": 56,
   "id": "693ce4c3-038e-4283-bb9d-bf95bdc41ddb",
   "metadata": {},
   "outputs": [
    {
     "data": {
      "text/plain": [
       "array([[11, 12, 13, 14],\n",
       "       [15, 16, 17, 18],\n",
       "       [19, 20, 21, 22],\n",
       "       [23, 24, 25, 26],\n",
       "       [27, 28, 29, 30],\n",
       "       [31, 32, 33, 34]])"
      ]
     },
     "execution_count": 56,
     "metadata": {},
     "output_type": "execute_result"
    }
   ],
   "source": [
    "sub_array = ave_array[zero_mod_mask] # здесь по факту мы накладываем условие, обынчая булевая маска\n",
    "sub_array.shape = (6,4)\n",
    "sub_array"
   ]
  },
  {
   "cell_type": "code",
   "execution_count": 57,
   "id": "d6f005ad-4242-4ff8-8711-9b35997c27b1",
   "metadata": {},
   "outputs": [
    {
     "data": {
      "text/plain": [
       "array([26, 27, 28, 29, 30, 31, 32, 33, 34])"
      ]
     },
     "execution_count": 57,
     "metadata": {},
     "output_type": "execute_result"
    }
   ],
   "source": [
    "sub_array[sub_array > 25] # еще одна булевая маска"
   ]
  },
  {
   "cell_type": "code",
   "execution_count": null,
   "id": "eb627700-66b2-458d-a5aa-b514614bc2d9",
   "metadata": {},
   "outputs": [],
   "source": [
    "# мы можем объединять условия при помощи np.logical_and()"
   ]
  },
  {
   "cell_type": "code",
   "execution_count": 60,
   "id": "c72947c4-9a96-4189-8461-3883cf5777fa",
   "metadata": {},
   "outputs": [
    {
     "data": {
      "text/plain": [
       "array([[False, False, False, False, False],\n",
       "       [False, False, False, False, False],\n",
       "       [False, False,  True, False,  True],\n",
       "       [False,  True, False,  True, False],\n",
       "       [ True, False,  True, False,  True],\n",
       "       [False,  True, False,  True, False],\n",
       "       [ True, False,  True, False,  True]])"
      ]
     },
     "execution_count": 60,
     "metadata": {},
     "output_type": "execute_result"
    }
   ],
   "source": [
    "comb_mask = np.logical_and(zero_mod_mask1, zero_mod_mask)\n",
    "comb_mask # здесь показываются булевое значение элементов которые делятся и на 2 без остатка и которые больше 10"
   ]
  },
  {
   "cell_type": "code",
   "execution_count": 61,
   "id": "002a233e-f994-4be2-b9f1-874aa79e994f",
   "metadata": {},
   "outputs": [
    {
     "data": {
      "text/plain": [
       "array([12, 14, 16, 18, 20, 22, 24, 26, 28, 30, 32, 34])"
      ]
     },
     "execution_count": 61,
     "metadata": {},
     "output_type": "execute_result"
    }
   ],
   "source": [
    "ave_array[comb_mask] # а вот здесь уже показываются значения, которые были отфильтрованы о булевой маске"
   ]
  },
  {
   "cell_type": "code",
   "execution_count": null,
   "id": "391d90e2-6c39-4aff-a579-e30ec783c020",
   "metadata": {},
   "outputs": [],
   "source": [
    "#broadcasting"
   ]
  },
  {
   "cell_type": "code",
   "execution_count": 64,
   "id": "60192f4b-ddd0-4aa6-9262-e96a5fc70fd9",
   "metadata": {},
   "outputs": [
    {
     "data": {
      "text/plain": [
       "array([[[ 0,  1,  2,  3,  4],\n",
       "        [ 5,  6,  7,  8,  9],\n",
       "        [10, 11, 12, 13, 14],\n",
       "        [15, 16, 17, 18, 19],\n",
       "        [20, 21, 22, 23, 24],\n",
       "        [25, 26, 27, 28, 29],\n",
       "        [30, 31, 32, 33, 34]],\n",
       "\n",
       "       [[35, 36, 37, 38, 39],\n",
       "        [40, 41, 42, 43, 44],\n",
       "        [45, 46, 47, 48, 49],\n",
       "        [50, 51, 52, 53, 54],\n",
       "        [55, 56, 57, 58, 59],\n",
       "        [60, 61, 62, 63, 64],\n",
       "        [65, 66, 67, 68, 69]]])"
      ]
     },
     "execution_count": 64,
     "metadata": {},
     "output_type": "execute_result"
    }
   ],
   "source": [
    "ave_3D_array = np.arange(70)\n",
    "ave_3D_array.shape = (2,7,5)\n",
    "ave_3D_array"
   ]
  },
  {
   "cell_type": "code",
   "execution_count": 66,
   "id": "57c7ebee-0f92-4ffd-8549-0d11d463dcb7",
   "metadata": {},
   "outputs": [
    {
     "data": {
      "text/plain": [
       "array([[[-10,  -5,   0,   5,  10],\n",
       "        [ 15,  20,  25,  30,  35],\n",
       "        [ 40,  45,  50,  55,  60],\n",
       "        [ 65,  70,  75,  80,  85],\n",
       "        [ 90,  95, 100, 105, 110],\n",
       "        [115, 120, 125, 130, 135],\n",
       "        [140, 145, 150, 155, 160]],\n",
       "\n",
       "       [[165, 170, 175, 180, 185],\n",
       "        [190, 195, 200, 205, 210],\n",
       "        [215, 220, 225, 230, 235],\n",
       "        [240, 245, 250, 255, 260],\n",
       "        [265, 270, 275, 280, 285],\n",
       "        [290, 295, 300, 305, 310],\n",
       "        [315, 320, 325, 330, 335]]])"
      ]
     },
     "execution_count": 66,
     "metadata": {},
     "output_type": "execute_result"
    }
   ],
   "source": [
    "5 * ave_3D_array - 10"
   ]
  },
  {
   "cell_type": "code",
   "execution_count": null,
   "id": "4cd046fc-ef00-40de-b43b-6f25add6ff18",
   "metadata": {},
   "outputs": [],
   "source": [
    "#dot product"
   ]
  },
  {
   "cell_type": "code",
   "execution_count": 72,
   "id": "16069541-4077-4470-a25c-68d9af26b9e3",
   "metadata": {},
   "outputs": [],
   "source": [
    "left_mat = np.arange(6).reshape(2,3)\n",
    "right_mat = np.arange(15).reshape(3,5)\n",
    "dot_product = np.dot(left_mat, right_mat)"
   ]
  },
  {
   "cell_type": "code",
   "execution_count": 73,
   "id": "59709308-ae0c-4647-96ac-a72077adceac",
   "metadata": {},
   "outputs": [
    {
     "data": {
      "text/plain": [
       "array([[ 25,  28,  31,  34,  37],\n",
       "       [ 70,  82,  94, 106, 118]])"
      ]
     },
     "execution_count": 73,
     "metadata": {},
     "output_type": "execute_result"
    }
   ],
   "source": [
    "dot_product"
   ]
  },
  {
   "cell_type": "code",
   "execution_count": 77,
   "id": "b60fb4ed-172d-4fb4-b260-2cfd0fef9cb6",
   "metadata": {},
   "outputs": [
    {
     "data": {
      "text/plain": [
       "array([[105, 112, 119, 126, 133],\n",
       "       [350, 357, 364, 371, 378]])"
      ]
     },
     "execution_count": 77,
     "metadata": {},
     "output_type": "execute_result"
    }
   ],
   "source": [
    "ave_3D_array.sum(axis = 1) # сумма по элементам столбцов"
   ]
  },
  {
   "cell_type": "code",
   "execution_count": 79,
   "id": "9ba06bd4-adc0-4727-ae85-d7570b2265f0",
   "metadata": {},
   "outputs": [
    {
     "data": {
      "text/plain": [
       "array([[ 10,  35,  60,  85, 110, 135, 160],\n",
       "       [185, 210, 235, 260, 285, 310, 335]])"
      ]
     },
     "execution_count": 79,
     "metadata": {},
     "output_type": "execute_result"
    }
   ],
   "source": [
    "ave_3D_array.sum(axis = 2) # складываются значения по строкам"
   ]
  },
  {
   "cell_type": "code",
   "execution_count": null,
   "id": "6937ead7-3117-437c-8e25-4214cf311db2",
   "metadata": {},
   "outputs": [],
   "source": [
    "# broadcasting rules"
   ]
  },
  {
   "cell_type": "code",
   "execution_count": 81,
   "id": "b10c4cbb-b6b2-4b24-b3bd-3a7393db35b5",
   "metadata": {},
   "outputs": [
    {
     "data": {
      "text/plain": [
       "array([[5, 5, 5, 5, 5],\n",
       "       [5, 5, 5, 5, 5],\n",
       "       [5, 5, 5, 5, 5],\n",
       "       [5, 5, 5, 5, 5],\n",
       "       [5, 5, 5, 5, 5],\n",
       "       [5, 5, 5, 5, 5],\n",
       "       [5, 5, 5, 5, 5]])"
      ]
     },
     "execution_count": 81,
     "metadata": {},
     "output_type": "execute_result"
    }
   ],
   "source": [
    "ave_2D_array = np.ones(35, dtype='int_').reshape((7,5)) * 5\n",
    "ave_2D_array"
   ]
  },
  {
   "cell_type": "code",
   "execution_count": 84,
   "id": "5e9b98aa-8701-460d-ae3a-b9397686aca0",
   "metadata": {},
   "outputs": [
    {
     "data": {
      "text/plain": [
       "array([[0.97778573, 0.06254696, 0.80118377, 0.97707959, 0.11566084],\n",
       "       [0.32366294, 0.92689359, 0.98710837, 0.10110296, 0.16813491],\n",
       "       [0.75766533, 0.57730746, 0.95974566, 0.32580553, 0.30198101],\n",
       "       [0.49356909, 0.26804769, 0.73720181, 0.12561413, 0.55697981],\n",
       "       [0.88959047, 0.63298851, 0.05301285, 0.38087412, 0.83607684],\n",
       "       [0.61580532, 0.69523647, 0.84990834, 0.6368943 , 0.8485708 ],\n",
       "       [0.8837828 , 0.8791242 , 0.42327942, 0.18361679, 0.0121311 ]])"
      ]
     },
     "execution_count": 84,
     "metadata": {},
     "output_type": "execute_result"
    }
   ],
   "source": [
    "ave_random_2D_array = np.random.random((7,5))\n",
    "ave_random_2D_array"
   ]
  },
  {
   "cell_type": "code",
   "execution_count": 86,
   "id": "e5b76888-661e-4f13-b8d3-d4c341762e8a",
   "metadata": {},
   "outputs": [
    {
     "data": {
      "text/plain": [
       "array([[[ 0.    ,  0.0625,  1.6024,  2.9312,  0.4626],\n",
       "        [ 1.6183,  5.5614,  6.9098,  0.8088,  1.5132],\n",
       "        [ 7.5767,  6.3504, 11.5169,  4.2355,  4.2277],\n",
       "        [ 7.4035,  4.2888, 12.5324,  2.2611, 10.5826],\n",
       "        [17.7918, 13.2928,  1.1663,  8.7601, 20.0658],\n",
       "        [15.3951, 18.0761, 22.9475, 17.833 , 24.6086],\n",
       "        [26.5135, 27.2529, 13.5449,  6.0594,  0.4125]],\n",
       "\n",
       "       [[34.2225,  2.2517, 29.6438, 37.129 ,  4.5108],\n",
       "        [12.9465, 38.0026, 41.4586,  4.3474,  7.3979],\n",
       "        [34.0949, 26.5561, 45.108 , 15.6387, 14.7971],\n",
       "        [24.6785, 13.6704, 38.3345,  6.6575, 30.0769],\n",
       "        [48.9275, 35.4474,  3.0217, 22.0907, 49.3285],\n",
       "        [36.9483, 42.4094, 52.6943, 40.1243, 54.3085],\n",
       "        [57.4459, 58.0222, 28.3597, 12.4859,  0.837 ]]])"
      ]
     },
     "execution_count": 86,
     "metadata": {},
     "output_type": "execute_result"
    }
   ],
   "source": [
    "np.set_printoptions(precision=4)\n",
    "ave_3D_array * ave_random_2D_array"
   ]
  },
  {
   "cell_type": "code",
   "execution_count": null,
   "id": "9d049636-3c9b-453a-9a6d-74c9cfaad8a4",
   "metadata": {},
   "outputs": [],
   "source": [
    "# структурированные массивы"
   ]
  },
  {
   "cell_type": "code",
   "execution_count": 97,
   "id": "3674fa9b-ef91-4d8a-9e17-9becef3d179c",
   "metadata": {},
   "outputs": [
    {
     "data": {
      "text/plain": [
       "[('name', 'S6'), ('height', 'f8'), ('weight', 'f8'), ('age', 'i8')]"
      ]
     },
     "execution_count": 97,
     "metadata": {},
     "output_type": "execute_result"
    }
   ],
   "source": [
    "employee_data_def = [('name', 'S6'), ('height', 'f8'), ('weight', 'f8'), ('age', 'i8')]\n",
    "employee_data_def"
   ]
  },
  {
   "cell_type": "code",
   "execution_count": 98,
   "id": "d89bed62-ca94-4716-a2d5-94a8a702e610",
   "metadata": {},
   "outputs": [
    {
     "data": {
      "text/plain": [
       "array([(b'', 0., 0., 0), (b'', 0., 0., 0), (b'', 0., 0., 0),\n",
       "       (b'', 0., 0., 0)],\n",
       "      dtype=[('name', 'S6'), ('height', '<f8'), ('weight', '<f8'), ('age', '<i8')])"
      ]
     },
     "execution_count": 98,
     "metadata": {},
     "output_type": "execute_result"
    }
   ],
   "source": [
    "employees_array=np.zeros((4), dtype = employee_data_def)\n",
    "employees_array"
   ]
  },
  {
   "cell_type": "code",
   "execution_count": 99,
   "id": "b1cc935a-38eb-46b3-8f09-de146dbb060f",
   "metadata": {},
   "outputs": [
    {
     "data": {
      "text/plain": [
       "array([(b'',   0.,  0.,  0), (b'',   0.,  0.,  0), (b'',   0.,  0.,  0),\n",
       "       (b'Vova', 186., 81., 19)],\n",
       "      dtype=[('name', 'S6'), ('height', '<f8'), ('weight', '<f8'), ('age', '<i8')])"
      ]
     },
     "execution_count": 99,
     "metadata": {},
     "output_type": "execute_result"
    }
   ],
   "source": [
    "employees_array[3] = ('Vova', 186, 81, 19)\n",
    "employees_array"
   ]
  },
  {
   "cell_type": "code",
   "execution_count": 102,
   "id": "650b98f6-8a26-4222-bdbc-0958bdbfbdbd",
   "metadata": {},
   "outputs": [
    {
     "data": {
      "text/plain": [
       "array([[[(b'', 0., 0., 0), (b'', 0., 0., 0)],\n",
       "        [(b'', 0., 0., 0), (b'', 0., 0., 0)],\n",
       "        [(b'', 0., 0., 0), (b'', 0., 0., 0)]],\n",
       "\n",
       "       [[(b'', 0., 0., 0), (b'', 0., 0., 0)],\n",
       "        [(b'', 0., 0., 0), (b'', 0., 0., 0)],\n",
       "        [(b'', 0., 0., 0), (b'', 0., 0., 0)]],\n",
       "\n",
       "       [[(b'', 0., 0., 0), (b'', 0., 0., 0)],\n",
       "        [(b'', 0., 0., 0), (b'', 0., 0., 0)],\n",
       "        [(b'', 0., 0., 0), (b'', 0., 0., 0)]],\n",
       "\n",
       "       [[(b'', 0., 0., 0), (b'', 0., 0., 0)],\n",
       "        [(b'', 0., 0., 0), (b'', 0., 0., 0)],\n",
       "        [(b'', 0., 0., 0), (b'', 0., 0., 0)]]],\n",
       "      dtype=[('name', 'S6'), ('height', '<f8'), ('weight', '<f8'), ('age', '<i8')])"
      ]
     },
     "execution_count": 102,
     "metadata": {},
     "output_type": "execute_result"
    }
   ],
   "source": [
    "company_employees = np.zeros((4,3,2), dtype=employee_data_def)\n",
    "company_employees"
   ]
  },
  {
   "cell_type": "code",
   "execution_count": 104,
   "id": "6357228f-f6b8-4b31-9a43-26a1d20fbc63",
   "metadata": {},
   "outputs": [
    {
     "data": {
      "text/plain": [
       "array([[[(b'',   0.,  0.,  0), (b'',   0.,  0.,  0)],\n",
       "        [(b'',   0.,  0.,  0), (b'',   0.,  0.,  0)],\n",
       "        [(b'',   0.,  0.,  0), (b'',   0.,  0.,  0)]],\n",
       "\n",
       "       [[(b'',   0.,  0.,  0), (b'',   0.,  0.,  0)],\n",
       "        [(b'',   0.,  0.,  0), (b'',   0.,  0.,  0)],\n",
       "        [(b'',   0.,  0.,  0), (b'',   0.,  0.,  0)]],\n",
       "\n",
       "       [[(b'',   0.,  0.,  0), (b'',   0.,  0.,  0)],\n",
       "        [(b'',   0.,  0.,  0), (b'',   0.,  0.,  0)],\n",
       "        [(b'',   0.,  0.,  0), (b'',   0.,  0.,  0)]],\n",
       "\n",
       "       [[(b'',   0.,  0.,  0), (b'',   0.,  0.,  0)],\n",
       "        [(b'',   0.,  0.,  0), (b'',   0.,  0.,  0)],\n",
       "        [(b'',   0.,  0.,  0), (b'Vova', 186., 81., 19)]]],\n",
       "      dtype=[('name', 'S6'), ('height', '<f8'), ('weight', '<f8'), ('age', '<i8')])"
      ]
     },
     "execution_count": 104,
     "metadata": {},
     "output_type": "execute_result"
    }
   ],
   "source": [
    "company_employees[3,2,1] = ('Vova', 186, 81, 19)  # слой, строка, колонка\n",
    "company_employees"
   ]
  },
  {
   "cell_type": "code",
   "execution_count": 106,
   "id": "8b27185b-3873-401b-9dc0-403de4bbe766",
   "metadata": {},
   "outputs": [
    {
     "data": {
      "text/plain": [
       "array([[[  0.,   0.],\n",
       "        [  0.,   0.],\n",
       "        [  0.,   0.]],\n",
       "\n",
       "       [[  0.,   0.],\n",
       "        [  0.,   0.],\n",
       "        [  0.,   0.]],\n",
       "\n",
       "       [[  0.,   0.],\n",
       "        [  0.,   0.],\n",
       "        [  0.,   0.]],\n",
       "\n",
       "       [[  0.,   0.],\n",
       "        [  0.,   0.],\n",
       "        [  0., 186.]]])"
      ]
     },
     "execution_count": 106,
     "metadata": {},
     "output_type": "execute_result"
    }
   ],
   "source": [
    "company_employees['height']"
   ]
  },
  {
   "cell_type": "code",
   "execution_count": null,
   "id": "58a8fcff-ab73-4bd8-9c74-dc03bcec4d9e",
   "metadata": {},
   "outputs": [],
   "source": [
    "#добавление элементов в массив"
   ]
  },
  {
   "cell_type": "code",
   "execution_count": 108,
   "id": "192825c0-f223-4c3d-a1e1-f5594e3e31d8",
   "metadata": {},
   "outputs": [
    {
     "data": {
      "text/plain": [
       "array([[[ 0,  1,  2,  3],\n",
       "        [ 4,  5,  6,  7],\n",
       "        [ 8,  9, 10, 11]],\n",
       "\n",
       "       [[12, 13, 14, 15],\n",
       "        [16, 17, 18, 19],\n",
       "        [20, 21, 22, 23]]])"
      ]
     },
     "execution_count": 108,
     "metadata": {},
     "output_type": "execute_result"
    }
   ],
   "source": [
    "av_array = (np.arange(24).reshape(2,3,4))\n",
    "av_array"
   ]
  },
  {
   "cell_type": "code",
   "execution_count": 119,
   "id": "57d6dac2-d695-455c-bc35-80c1f51dba06",
   "metadata": {},
   "outputs": [
    {
     "data": {
      "text/plain": [
       "array([[[ 0,  1,  2,  3],\n",
       "        [ 4,  5,  6,  7],\n",
       "        [ 8,  9, 10, 11],\n",
       "        [12, 13, 14, 15]],\n",
       "\n",
       "       [[16, 17, 18, 19],\n",
       "        [20, 21, 22, 23],\n",
       "        [ 5,  6,  7,  8],\n",
       "        [ 9, 10, 11, 12]]])"
      ]
     },
     "execution_count": 119,
     "metadata": {},
     "output_type": "execute_result"
    }
   ],
   "source": [
    "trial_array = np.append(av_array, [5,6,7,8,9,10,11,12])\n",
    "trial_array.reshape(2,4,4)"
   ]
  },
  {
   "cell_type": "code",
   "execution_count": 122,
   "id": "f0713075-06cb-4bac-8ff0-b502f425e2a0",
   "metadata": {},
   "outputs": [
    {
     "data": {
      "text/plain": [
       "array([[[  5,  15,  25,  35],\n",
       "        [ 45,  55,  65,  75],\n",
       "        [ 85,  95, 105, 115]],\n",
       "\n",
       "       [[125, 135, 145, 155],\n",
       "        [165, 175, 185, 195],\n",
       "        [205, 215, 225, 235]]])"
      ]
     },
     "execution_count": 122,
     "metadata": {},
     "output_type": "execute_result"
    }
   ],
   "source": [
    "new_trial = np.array(np.arange(24).reshape(2,3,4)*10+5)\n",
    "new_trial"
   ]
  },
  {
   "cell_type": "code",
   "execution_count": 131,
   "id": "f86e97a6-8809-4ff7-a85d-92c70dd080b1",
   "metadata": {},
   "outputs": [
    {
     "data": {
      "text/plain": [
       "array([[[  0,   1,   2,   3],\n",
       "        [  4,   5,   6,   7],\n",
       "        [  8,   9,  10,  11]],\n",
       "\n",
       "       [[ 12,  13,  14,  15],\n",
       "        [ 16,  17,  18,  19],\n",
       "        [ 20,  21,  22,  23]],\n",
       "\n",
       "       [[  5,  15,  25,  35],\n",
       "        [ 45,  55,  65,  75],\n",
       "        [ 85,  95, 105, 115]],\n",
       "\n",
       "       [[125, 135, 145, 155],\n",
       "        [165, 175, 185, 195],\n",
       "        [205, 215, 225, 235]]])"
      ]
     },
     "execution_count": 131,
     "metadata": {},
     "output_type": "execute_result"
    }
   ],
   "source": [
    "np.append(av_array,new_trial, axis = 0 ) # можно игратьс] с осями"
   ]
  },
  {
   "cell_type": "code",
   "execution_count": 132,
   "id": "89414422-f1e7-4c8f-8963-fd3e69705835",
   "metadata": {},
   "outputs": [
    {
     "data": {
      "text/plain": [
       "array([[[  0,   1,   2,   3],\n",
       "        [  4,   5,   6,   7],\n",
       "        [  8,   9,  10,  11],\n",
       "        [  5,  15,  25,  35],\n",
       "        [ 45,  55,  65,  75],\n",
       "        [ 85,  95, 105, 115]],\n",
       "\n",
       "       [[ 12,  13,  14,  15],\n",
       "        [ 16,  17,  18,  19],\n",
       "        [ 20,  21,  22,  23],\n",
       "        [125, 135, 145, 155],\n",
       "        [165, 175, 185, 195],\n",
       "        [205, 215, 225, 235]]])"
      ]
     },
     "execution_count": 132,
     "metadata": {},
     "output_type": "execute_result"
    }
   ],
   "source": [
    "np.append(av_array,new_trial, axis = 1 )"
   ]
  },
  {
   "cell_type": "code",
   "execution_count": null,
   "id": "79d42a35-e4eb-4cd2-81aa-24fdc18642b1",
   "metadata": {},
   "outputs": [],
   "source": [
    "# stack"
   ]
  },
  {
   "cell_type": "code",
   "execution_count": 134,
   "id": "321af65b-1710-4d38-9e2d-945f4540466d",
   "metadata": {},
   "outputs": [
    {
     "data": {
      "text/plain": [
       "array([[[  0,   1,   2,   3],\n",
       "        [  4,   5,   6,   7],\n",
       "        [  8,   9,  10,  11],\n",
       "        [  5,  15,  25,  35],\n",
       "        [ 45,  55,  65,  75],\n",
       "        [ 85,  95, 105, 115]],\n",
       "\n",
       "       [[ 12,  13,  14,  15],\n",
       "        [ 16,  17,  18,  19],\n",
       "        [ 20,  21,  22,  23],\n",
       "        [125, 135, 145, 155],\n",
       "        [165, 175, 185, 195],\n",
       "        [205, 215, 225, 235]]])"
      ]
     },
     "execution_count": 134,
     "metadata": {},
     "output_type": "execute_result"
    }
   ],
   "source": [
    "ave_stack = np.hstack((av_array,new_trial))\n",
    "ave_stack"
   ]
  },
  {
   "cell_type": "code",
   "execution_count": 151,
   "id": "c2355fb7-e170-44b6-90f0-7cce1ad658b0",
   "metadata": {},
   "outputs": [
    {
     "data": {
      "text/plain": [
       "array([[ 0,  1,  2,  3],\n",
       "       [ 4,  5,  6,  7],\n",
       "       [ 8,  9, 10, 11],\n",
       "       [12, 13, 14, 15],\n",
       "       [16, 17, 18, 19],\n",
       "       [20, 21, 22, 23]])"
      ]
     },
     "execution_count": 151,
     "metadata": {},
     "output_type": "execute_result"
    }
   ],
   "source": [
    "r1 = np.array(np.arange(24).reshape(6,4))\n",
    "r1"
   ]
  },
  {
   "cell_type": "code",
   "execution_count": 152,
   "id": "521de5b0-1bcf-45b6-b906-98ffbbcec717",
   "metadata": {},
   "outputs": [
    {
     "data": {
      "text/plain": [
       "array([[24, 25, 26, 27],\n",
       "       [28, 29, 30, 31],\n",
       "       [32, 33, 34, 35],\n",
       "       [36, 37, 38, 39],\n",
       "       [40, 41, 42, 43],\n",
       "       [44, 45, 46, 47]])"
      ]
     },
     "execution_count": 152,
     "metadata": {},
     "output_type": "execute_result"
    }
   ],
   "source": [
    "r2 = np.array(np.arange(24, 48).reshape(6,4))\n",
    "r2"
   ]
  },
  {
   "cell_type": "code",
   "execution_count": 155,
   "id": "7836db3b-4e49-4327-85fd-ace6c6d03456",
   "metadata": {},
   "outputs": [
    {
     "data": {
      "text/plain": [
       "(6, 8)"
      ]
     },
     "execution_count": 155,
     "metadata": {},
     "output_type": "execute_result"
    }
   ],
   "source": [
    "s = np.append(r1,r2, axis = 1)\n",
    "s.shape"
   ]
  },
  {
   "cell_type": "code",
   "execution_count": 156,
   "id": "cb63d81f-ca16-4de3-b000-6a0103cd179f",
   "metadata": {},
   "outputs": [
    {
     "data": {
      "text/plain": [
       "(12, 4)"
      ]
     },
     "execution_count": 156,
     "metadata": {},
     "output_type": "execute_result"
    }
   ],
   "source": [
    "s = np.append(r1,r2, axis = 0)\n",
    "s.shape"
   ]
  },
  {
   "cell_type": "code",
   "execution_count": null,
   "id": "40df78cd-7217-4082-a5d2-2b02f0aa857f",
   "metadata": {},
   "outputs": [],
   "source": [
    "# how to insert"
   ]
  },
  {
   "cell_type": "code",
   "execution_count": 163,
   "id": "d3bb96bd-8e7b-4a17-9ba5-a06a20e627ed",
   "metadata": {},
   "outputs": [
    {
     "data": {
      "text/plain": [
       "array([[[ 0,  1,  2,  3],\n",
       "        [ 4,  5,  6,  7],\n",
       "        [ 8,  9, 10, 11]],\n",
       "\n",
       "       [[12, 13, 14, 15],\n",
       "        [16, 17, 18, 19],\n",
       "        [20, 21, 22, 23]]])"
      ]
     },
     "execution_count": 163,
     "metadata": {},
     "output_type": "execute_result"
    }
   ],
   "source": [
    "av_array"
   ]
  },
  {
   "cell_type": "code",
   "execution_count": 166,
   "id": "8d8cb2a5-c615-4b4e-870d-90e89d0ee92a",
   "metadata": {},
   "outputs": [
    {
     "data": {
      "text/plain": [
       "array([[[  0,   1,   2,   3],\n",
       "        [  4,   5,   6,   7],\n",
       "        [  8,   9,  10,  11]],\n",
       "\n",
       "       [[666, 666, 666, 666],\n",
       "        [666, 666, 666, 666],\n",
       "        [666, 666, 666, 666]],\n",
       "\n",
       "       [[ 12,  13,  14,  15],\n",
       "        [ 16,  17,  18,  19],\n",
       "        [ 20,  21,  22,  23]]])"
      ]
     },
     "execution_count": 166,
     "metadata": {},
     "output_type": "execute_result"
    }
   ],
   "source": [
    "insert_av_array = np.insert(av_array, 1, 666, axis=0)\n",
    "insert_av_array"
   ]
  },
  {
   "cell_type": "code",
   "execution_count": 167,
   "id": "7d16cc7e-b706-4361-8ae8-9305257919c5",
   "metadata": {},
   "outputs": [
    {
     "data": {
      "text/plain": [
       "array([[[  0,   1,   2,   3],\n",
       "        [666, 666, 666, 666],\n",
       "        [  4,   5,   6,   7],\n",
       "        [  8,   9,  10,  11]],\n",
       "\n",
       "       [[ 12,  13,  14,  15],\n",
       "        [666, 666, 666, 666],\n",
       "        [ 16,  17,  18,  19],\n",
       "        [ 20,  21,  22,  23]]])"
      ]
     },
     "execution_count": 167,
     "metadata": {},
     "output_type": "execute_result"
    }
   ],
   "source": [
    "insert_av_array = np.insert(av_array, 1, 666, axis=1)\n",
    "insert_av_array"
   ]
  },
  {
   "cell_type": "code",
   "execution_count": 168,
   "id": "246ef500-d5d6-449c-aa1e-4845be384952",
   "metadata": {},
   "outputs": [
    {
     "data": {
      "text/plain": [
       "array([[[  0, 666,   1,   2,   3],\n",
       "        [  4, 666,   5,   6,   7],\n",
       "        [  8, 666,   9,  10,  11]],\n",
       "\n",
       "       [[ 12, 666,  13,  14,  15],\n",
       "        [ 16, 666,  17,  18,  19],\n",
       "        [ 20, 666,  21,  22,  23]]])"
      ]
     },
     "execution_count": 168,
     "metadata": {},
     "output_type": "execute_result"
    }
   ],
   "source": [
    "insert_av_array = np.insert(av_array, 1, 666, axis=2)\n",
    "insert_av_array"
   ]
  },
  {
   "cell_type": "code",
   "execution_count": 172,
   "id": "0bad6dde-997b-459b-a75e-9051a7f8c65f",
   "metadata": {},
   "outputs": [
    {
     "data": {
      "text/plain": [
       "array([[[0., 0., 0., 0.],\n",
       "        [0., 0., 0., 0.],\n",
       "        [0., 0., 0., 0.]],\n",
       "\n",
       "       [[0., 0., 0., 0.],\n",
       "        [0., 0., 0., 0.],\n",
       "        [0., 0., 0., 0.]]])"
      ]
     },
     "execution_count": 172,
     "metadata": {},
     "output_type": "execute_result"
    }
   ],
   "source": [
    "del_array = np.empty(av_array.shape) # создаем такой же по размеру как и av_array\n",
    "del_array"
   ]
  },
  {
   "cell_type": "code",
   "execution_count": 175,
   "id": "2d1df4bf-0293-47c2-b370-aa9c1182b5bc",
   "metadata": {},
   "outputs": [
    {
     "data": {
      "text/plain": [
       "array([[[ 0.,  1.,  2.,  3.],\n",
       "        [ 4.,  5.,  6.,  7.],\n",
       "        [ 8.,  9., 10., 11.]],\n",
       "\n",
       "       [[12., 13., 14., 15.],\n",
       "        [16., 17., 18., 19.],\n",
       "        [20., 21., 22., 23.]]])"
      ]
     },
     "execution_count": 175,
     "metadata": {},
     "output_type": "execute_result"
    }
   ],
   "source": [
    "np.copyto(del_array, av_array)\n",
    "del_array"
   ]
  },
  {
   "cell_type": "code",
   "execution_count": 179,
   "id": "5a995ad9-4d50-4489-bea9-6f71d453c042",
   "metadata": {},
   "outputs": [
    {
     "data": {
      "text/plain": [
       "array([[[ 0.,  2.,  3.],\n",
       "        [ 4.,  6.,  7.],\n",
       "        [ 8., 10., 11.]],\n",
       "\n",
       "       [[12., 14., 15.],\n",
       "        [16., 18., 19.],\n",
       "        [20., 22., 23.]]])"
      ]
     },
     "execution_count": 179,
     "metadata": {},
     "output_type": "execute_result"
    }
   ],
   "source": [
    "np.delete(del_array, 1, axis=2)"
   ]
  },
  {
   "cell_type": "code",
   "execution_count": null,
   "id": "f69ffd3f-bd33-4081-929f-bd874a2aa60d",
   "metadata": {},
   "outputs": [],
   "source": [
    "# конкатинация"
   ]
  },
  {
   "cell_type": "code",
   "execution_count": 184,
   "id": "47a59f0d-912a-4c23-83f4-41d9b3beda8f",
   "metadata": {},
   "outputs": [],
   "source": [
    "alhpa = np.array([[1,2], [3,4]])\n",
    "beta = np.array([[5,6]])"
   ]
  },
  {
   "cell_type": "code",
   "execution_count": 182,
   "id": "10311af3-e580-4da4-b71f-21171f80d816",
   "metadata": {},
   "outputs": [
    {
     "data": {
      "text/plain": [
       "array([[1, 2],\n",
       "       [3, 4]])"
      ]
     },
     "execution_count": 182,
     "metadata": {},
     "output_type": "execute_result"
    }
   ],
   "source": [
    "alhpa"
   ]
  },
  {
   "cell_type": "code",
   "execution_count": 185,
   "id": "563e04f4-a171-4db2-a7be-637131584300",
   "metadata": {},
   "outputs": [
    {
     "data": {
      "text/plain": [
       "array([[5, 6]])"
      ]
     },
     "execution_count": 185,
     "metadata": {},
     "output_type": "execute_result"
    }
   ],
   "source": [
    "beta"
   ]
  },
  {
   "cell_type": "code",
   "execution_count": 192,
   "id": "d6247e7b-3b58-432c-8d07-92af9f2719e8",
   "metadata": {},
   "outputs": [
    {
     "data": {
      "text/plain": [
       "array([[1, 2],\n",
       "       [3, 4],\n",
       "       [5, 6]])"
      ]
     },
     "execution_count": 192,
     "metadata": {},
     "output_type": "execute_result"
    }
   ],
   "source": [
    "together = np.concatenate((alhpa,beta), axis = 0 )\n",
    "together"
   ]
  },
  {
   "cell_type": "code",
   "execution_count": 203,
   "id": "704b5d8d-7f06-407d-a767-c2262122ebc5",
   "metadata": {},
   "outputs": [
    {
     "data": {
      "text/plain": [
       "array([[  1,   2],\n",
       "       [  3, 666],\n",
       "       [  5,   6]])"
      ]
     },
     "execution_count": 203,
     "metadata": {},
     "output_type": "execute_result"
    }
   ],
   "source": [
    "together[1,1] = 666\n",
    "together"
   ]
  },
  {
   "cell_type": "code",
   "execution_count": 219,
   "id": "feddc317-baea-4002-9b19-bfe0b0de2f72",
   "metadata": {},
   "outputs": [
    {
     "data": {
      "text/plain": [
       "array([[[0.4677, 0.4677, 0.4677, 0.4677],\n",
       "        [0.4677, 0.4677, 0.4677, 0.4677],\n",
       "        [0.4677, 0.4677, 0.4677, 0.4677]],\n",
       "\n",
       "       [[0.3702, 0.3702, 0.3702, 0.3702],\n",
       "        [0.3702, 0.3702, 0.3702, 0.3702],\n",
       "        [0.3702, 0.3702, 0.3702, 0.3702]],\n",
       "\n",
       "       [[0.2656, 0.2656, 0.2656, 0.2656],\n",
       "        [0.2656, 0.2656, 0.2656, 0.2656],\n",
       "        [0.2656, 0.2656, 0.2656, 0.2656]],\n",
       "\n",
       "       [[0.675 , 0.675 , 0.675 , 0.675 ],\n",
       "        [0.675 , 0.675 , 0.675 , 0.675 ],\n",
       "        [0.675 , 0.675 , 0.675 , 0.675 ]],\n",
       "\n",
       "       [[0.3978, 0.3978, 0.3978, 0.3978],\n",
       "        [0.3978, 0.3978, 0.3978, 0.3978],\n",
       "        [0.3978, 0.3978, 0.3978, 0.3978]]])"
      ]
     },
     "execution_count": 219,
     "metadata": {},
     "output_type": "execute_result"
    }
   ],
   "source": [
    "arrays = np.zeros((5,3,4))\n",
    "for n in range(5):\n",
    "    arrays[n] = np.random.random()\n",
    "arrays"
   ]
  },
  {
   "cell_type": "code",
   "execution_count": null,
   "id": "693b0cb4-40e6-4f65-9db9-16e712e891c9",
   "metadata": {},
   "outputs": [],
   "source": [
    "# stack"
   ]
  },
  {
   "cell_type": "code",
   "execution_count": 229,
   "id": "a3e48ae5-2055-4e3c-ba5c-2d4ef39d1b74",
   "metadata": {},
   "outputs": [],
   "source": [
    "stack0 = np.stack(arrays, axis=0)\n",
    "stack1 = np.stack(arrays, axis=1)\n",
    "stack2 = np.stack(arrays, axis=2)"
   ]
  },
  {
   "cell_type": "code",
   "execution_count": 226,
   "id": "026b7be3-88d7-42cd-805f-964f1ec7ffbc",
   "metadata": {},
   "outputs": [
    {
     "data": {
      "text/plain": [
       "array([[[0.4677, 0.4677, 0.4677, 0.4677],\n",
       "        [0.3702, 0.3702, 0.3702, 0.3702],\n",
       "        [0.2656, 0.2656, 0.2656, 0.2656],\n",
       "        [0.675 , 0.675 , 0.675 , 0.675 ],\n",
       "        [0.3978, 0.3978, 0.3978, 0.3978]],\n",
       "\n",
       "       [[0.4677, 0.4677, 0.4677, 0.4677],\n",
       "        [0.3702, 0.3702, 0.3702, 0.3702],\n",
       "        [0.2656, 0.2656, 0.2656, 0.2656],\n",
       "        [0.675 , 0.675 , 0.675 , 0.675 ],\n",
       "        [0.3978, 0.3978, 0.3978, 0.3978]],\n",
       "\n",
       "       [[0.4677, 0.4677, 0.4677, 0.4677],\n",
       "        [0.3702, 0.3702, 0.3702, 0.3702],\n",
       "        [0.2656, 0.2656, 0.2656, 0.2656],\n",
       "        [0.675 , 0.675 , 0.675 , 0.675 ],\n",
       "        [0.3978, 0.3978, 0.3978, 0.3978]]])"
      ]
     },
     "execution_count": 226,
     "metadata": {},
     "output_type": "execute_result"
    }
   ],
   "source": [
    "stack1"
   ]
  },
  {
   "cell_type": "code",
   "execution_count": 227,
   "id": "c8dece91-58f1-415f-9247-a108cf661d07",
   "metadata": {},
   "outputs": [
    {
     "data": {
      "text/plain": [
       "array([[[0.4677, 0.3702, 0.2656, 0.675 , 0.3978],\n",
       "        [0.4677, 0.3702, 0.2656, 0.675 , 0.3978],\n",
       "        [0.4677, 0.3702, 0.2656, 0.675 , 0.3978],\n",
       "        [0.4677, 0.3702, 0.2656, 0.675 , 0.3978]],\n",
       "\n",
       "       [[0.4677, 0.3702, 0.2656, 0.675 , 0.3978],\n",
       "        [0.4677, 0.3702, 0.2656, 0.675 , 0.3978],\n",
       "        [0.4677, 0.3702, 0.2656, 0.675 , 0.3978],\n",
       "        [0.4677, 0.3702, 0.2656, 0.675 , 0.3978]],\n",
       "\n",
       "       [[0.4677, 0.3702, 0.2656, 0.675 , 0.3978],\n",
       "        [0.4677, 0.3702, 0.2656, 0.675 , 0.3978],\n",
       "        [0.4677, 0.3702, 0.2656, 0.675 , 0.3978],\n",
       "        [0.4677, 0.3702, 0.2656, 0.675 , 0.3978]]])"
      ]
     },
     "execution_count": 227,
     "metadata": {},
     "output_type": "execute_result"
    }
   ],
   "source": [
    "stack2"
   ]
  },
  {
   "cell_type": "code",
   "execution_count": null,
   "id": "56a65872-6b79-4480-a701-bd8eb5d7d2f8",
   "metadata": {},
   "outputs": [],
   "source": [
    "#split"
   ]
  },
  {
   "cell_type": "code",
   "execution_count": 230,
   "id": "f952f501-1b2e-4594-8176-063c80efc0a1",
   "metadata": {},
   "outputs": [
    {
     "data": {
      "text/plain": [
       "array([[[0.4677, 0.4677, 0.4677, 0.4677],\n",
       "        [0.4677, 0.4677, 0.4677, 0.4677],\n",
       "        [0.4677, 0.4677, 0.4677, 0.4677]],\n",
       "\n",
       "       [[0.3702, 0.3702, 0.3702, 0.3702],\n",
       "        [0.3702, 0.3702, 0.3702, 0.3702],\n",
       "        [0.3702, 0.3702, 0.3702, 0.3702]],\n",
       "\n",
       "       [[0.2656, 0.2656, 0.2656, 0.2656],\n",
       "        [0.2656, 0.2656, 0.2656, 0.2656],\n",
       "        [0.2656, 0.2656, 0.2656, 0.2656]],\n",
       "\n",
       "       [[0.675 , 0.675 , 0.675 , 0.675 ],\n",
       "        [0.675 , 0.675 , 0.675 , 0.675 ],\n",
       "        [0.675 , 0.675 , 0.675 , 0.675 ]],\n",
       "\n",
       "       [[0.3978, 0.3978, 0.3978, 0.3978],\n",
       "        [0.3978, 0.3978, 0.3978, 0.3978],\n",
       "        [0.3978, 0.3978, 0.3978, 0.3978]]])"
      ]
     },
     "execution_count": 230,
     "metadata": {},
     "output_type": "execute_result"
    }
   ],
   "source": [
    "before_split = stack0\n",
    "before_split "
   ]
  },
  {
   "cell_type": "code",
   "execution_count": 237,
   "id": "a058604b-b062-4239-a75c-ff24c4ba7fd8",
   "metadata": {},
   "outputs": [
    {
     "data": {
      "text/plain": [
       "[array([[[0.4677, 0.4677, 0.4677, 0.4677],\n",
       "         [0.4677, 0.4677, 0.4677, 0.4677],\n",
       "         [0.4677, 0.4677, 0.4677, 0.4677]]]),\n",
       " array([[[0.3702, 0.3702, 0.3702, 0.3702],\n",
       "         [0.3702, 0.3702, 0.3702, 0.3702],\n",
       "         [0.3702, 0.3702, 0.3702, 0.3702]]]),\n",
       " array([[[0.2656, 0.2656, 0.2656, 0.2656],\n",
       "         [0.2656, 0.2656, 0.2656, 0.2656],\n",
       "         [0.2656, 0.2656, 0.2656, 0.2656]]]),\n",
       " array([[[0.675, 0.675, 0.675, 0.675],\n",
       "         [0.675, 0.675, 0.675, 0.675],\n",
       "         [0.675, 0.675, 0.675, 0.675]]]),\n",
       " array([[[0.3978, 0.3978, 0.3978, 0.3978],\n",
       "         [0.3978, 0.3978, 0.3978, 0.3978],\n",
       "         [0.3978, 0.3978, 0.3978, 0.3978]]])]"
      ]
     },
     "execution_count": 237,
     "metadata": {},
     "output_type": "execute_result"
    }
   ],
   "source": [
    "s0 = np.split(before_split, 5, axis = 0)\n",
    "s0"
   ]
  },
  {
   "cell_type": "code",
   "execution_count": null,
   "id": "5becf0a4-515c-4239-8728-404bb6b20f75",
   "metadata": {},
   "outputs": [],
   "source": [
    "# fliplr"
   ]
  },
  {
   "cell_type": "code",
   "execution_count": 244,
   "id": "18335098-2d47-462a-ad35-1b31355f4968",
   "metadata": {},
   "outputs": [],
   "source": [
    "m = np.array(np.arange(24).reshape(6,4))"
   ]
  },
  {
   "cell_type": "code",
   "execution_count": 250,
   "id": "8a8b6cd4-3022-4391-9e24-490712a1f2d7",
   "metadata": {},
   "outputs": [
    {
     "data": {
      "text/plain": [
       "array([[ 0,  1,  2,  3],\n",
       "       [ 4,  5,  6,  7],\n",
       "       [ 8,  9, 10, 11],\n",
       "       [12, 13, 14, 15],\n",
       "       [16, 17, 18, 19],\n",
       "       [20, 21, 22, 23]])"
      ]
     },
     "execution_count": 250,
     "metadata": {},
     "output_type": "execute_result"
    }
   ],
   "source": [
    "m"
   ]
  },
  {
   "cell_type": "code",
   "execution_count": 247,
   "id": "071577ed-c1e3-45cd-9861-37968073fffa",
   "metadata": {},
   "outputs": [
    {
     "data": {
      "text/plain": [
       "array([[ 3,  2,  1,  0],\n",
       "       [ 7,  6,  5,  4],\n",
       "       [11, 10,  9,  8],\n",
       "       [15, 14, 13, 12],\n",
       "       [19, 18, 17, 16],\n",
       "       [23, 22, 21, 20]])"
      ]
     },
     "execution_count": 247,
     "metadata": {},
     "output_type": "execute_result"
    }
   ],
   "source": [
    "np.fliplr(m)"
   ]
  },
  {
   "cell_type": "code",
   "execution_count": 252,
   "id": "14f286c9-c9fe-4950-aa59-ad8b1f4b586a",
   "metadata": {},
   "outputs": [
    {
     "data": {
      "text/plain": [
       "array([[[ 0,  1,  2],\n",
       "        [ 3,  4,  5]],\n",
       "\n",
       "       [[ 6,  7,  8],\n",
       "        [ 9, 10, 11]],\n",
       "\n",
       "       [[12, 13, 14],\n",
       "        [15, 16, 17]],\n",
       "\n",
       "       [[18, 19, 20],\n",
       "        [21, 22, 23]]])"
      ]
     },
     "execution_count": 252,
     "metadata": {},
     "output_type": "execute_result"
    }
   ],
   "source": [
    "m = np.array(np.arange(24).reshape(4,2,3))\n",
    "m"
   ]
  },
  {
   "cell_type": "code",
   "execution_count": 254,
   "id": "c1f2d517-a7b4-4b9b-b731-692e341c389a",
   "metadata": {},
   "outputs": [
    {
     "data": {
      "text/plain": [
       "array([[[18, 19, 20],\n",
       "        [21, 22, 23]],\n",
       "\n",
       "       [[12, 13, 14],\n",
       "        [15, 16, 17]],\n",
       "\n",
       "       [[ 6,  7,  8],\n",
       "        [ 9, 10, 11]],\n",
       "\n",
       "       [[ 0,  1,  2],\n",
       "        [ 3,  4,  5]]])"
      ]
     },
     "execution_count": 254,
     "metadata": {},
     "output_type": "execute_result"
    }
   ],
   "source": [
    "np.flipud(m)"
   ]
  },
  {
   "cell_type": "code",
   "execution_count": null,
   "id": "d559218d-8ff2-4423-8982-63dfa46e7fbe",
   "metadata": {},
   "outputs": [],
   "source": [
    "# roll"
   ]
  },
  {
   "cell_type": "code",
   "execution_count": 260,
   "id": "a10a272e-2861-4b64-af5f-5367daa699a6",
   "metadata": {},
   "outputs": [
    {
     "data": {
      "text/plain": [
       "array([26, 27, 28, 29,  0,  1,  2,  3,  4,  5,  6,  7,  8,  9, 10, 11, 12,\n",
       "       13, 14, 15, 16, 17, 18, 19, 20, 21, 22, 23, 24, 25])"
      ]
     },
     "execution_count": 260,
     "metadata": {},
     "output_type": "execute_result"
    }
   ],
   "source": [
    "ar = np.array(np.arange(30))\n",
    "np.roll(ar, 4) # проиходит сдвиг на четыре"
   ]
  },
  {
   "cell_type": "code",
   "execution_count": null,
   "id": "28ed8cc9-85ad-4ce9-9b70-fd247fdfc881",
   "metadata": {},
   "outputs": [],
   "source": [
    "# tile"
   ]
  },
  {
   "cell_type": "code",
   "execution_count": 261,
   "id": "ef355ab6-a718-40d4-8577-5cc2cce11c4a",
   "metadata": {},
   "outputs": [
    {
     "data": {
      "text/plain": [
       "array([ 0,  1,  2,  3,  4,  5,  6,  7,  8,  9, 10, 11, 12, 13, 14, 15, 16,\n",
       "       17, 18, 19, 20, 21, 22, 23, 24, 25, 26, 27, 28, 29])"
      ]
     },
     "execution_count": 261,
     "metadata": {},
     "output_type": "execute_result"
    }
   ],
   "source": [
    "ar"
   ]
  },
  {
   "cell_type": "code",
   "execution_count": 266,
   "id": "4686f993-70a4-4474-baf9-23d2c2a7e0c8",
   "metadata": {},
   "outputs": [
    {
     "data": {
      "text/plain": [
       "array([[ 0,  1,  2,  3,  4,  5,  6,  7,  8,  9, 10, 11, 12, 13, 14, 15,\n",
       "        16, 17, 18, 19, 20, 21, 22, 23, 24, 25, 26, 27, 28, 29,  0,  1,\n",
       "         2,  3,  4,  5,  6,  7,  8,  9, 10, 11, 12, 13, 14, 15, 16, 17,\n",
       "        18, 19, 20, 21, 22, 23, 24, 25, 26, 27, 28, 29,  0,  1,  2,  3,\n",
       "         4,  5,  6,  7,  8,  9, 10, 11, 12, 13, 14, 15, 16, 17, 18, 19,\n",
       "        20, 21, 22, 23, 24, 25, 26, 27, 28, 29],\n",
       "       [ 0,  1,  2,  3,  4,  5,  6,  7,  8,  9, 10, 11, 12, 13, 14, 15,\n",
       "        16, 17, 18, 19, 20, 21, 22, 23, 24, 25, 26, 27, 28, 29,  0,  1,\n",
       "         2,  3,  4,  5,  6,  7,  8,  9, 10, 11, 12, 13, 14, 15, 16, 17,\n",
       "        18, 19, 20, 21, 22, 23, 24, 25, 26, 27, 28, 29,  0,  1,  2,  3,\n",
       "         4,  5,  6,  7,  8,  9, 10, 11, 12, 13, 14, 15, 16, 17, 18, 19,\n",
       "        20, 21, 22, 23, 24, 25, 26, 27, 28, 29],\n",
       "       [ 0,  1,  2,  3,  4,  5,  6,  7,  8,  9, 10, 11, 12, 13, 14, 15,\n",
       "        16, 17, 18, 19, 20, 21, 22, 23, 24, 25, 26, 27, 28, 29,  0,  1,\n",
       "         2,  3,  4,  5,  6,  7,  8,  9, 10, 11, 12, 13, 14, 15, 16, 17,\n",
       "        18, 19, 20, 21, 22, 23, 24, 25, 26, 27, 28, 29,  0,  1,  2,  3,\n",
       "         4,  5,  6,  7,  8,  9, 10, 11, 12, 13, 14, 15, 16, 17, 18, 19,\n",
       "        20, 21, 22, 23, 24, 25, 26, 27, 28, 29],\n",
       "       [ 0,  1,  2,  3,  4,  5,  6,  7,  8,  9, 10, 11, 12, 13, 14, 15,\n",
       "        16, 17, 18, 19, 20, 21, 22, 23, 24, 25, 26, 27, 28, 29,  0,  1,\n",
       "         2,  3,  4,  5,  6,  7,  8,  9, 10, 11, 12, 13, 14, 15, 16, 17,\n",
       "        18, 19, 20, 21, 22, 23, 24, 25, 26, 27, 28, 29,  0,  1,  2,  3,\n",
       "         4,  5,  6,  7,  8,  9, 10, 11, 12, 13, 14, 15, 16, 17, 18, 19,\n",
       "        20, 21, 22, 23, 24, 25, 26, 27, 28, 29]])"
      ]
     },
     "execution_count": 266,
     "metadata": {},
     "output_type": "execute_result"
    }
   ],
   "source": [
    "np.tile(ar, (4, 3)) # просто повторяет массив и загоняет его в новый массив"
   ]
  },
  {
   "cell_type": "code",
   "execution_count": 267,
   "id": "293fb870-95c1-4c0b-ad34-5b80d73698ab",
   "metadata": {},
   "outputs": [
    {
     "data": {
      "text/plain": [
       "array([ 0,  1,  2,  3,  4,  5,  6,  7,  8,  9, 10, 11, 12, 13, 14, 15, 16,\n",
       "       17, 18, 19, 20, 21, 22, 23, 24, 25, 26, 27, 28, 29,  0,  1,  2,  3,\n",
       "        4,  5,  6,  7,  8,  9, 10, 11, 12, 13, 14, 15, 16, 17, 18, 19, 20,\n",
       "       21, 22, 23, 24, 25, 26, 27, 28, 29,  0,  1,  2,  3,  4,  5,  6,  7,\n",
       "        8,  9, 10, 11, 12, 13, 14, 15, 16, 17, 18, 19, 20, 21, 22, 23, 24,\n",
       "       25, 26, 27, 28, 29,  0,  1,  2,  3,  4,  5,  6,  7,  8,  9, 10, 11,\n",
       "       12, 13, 14, 15, 16, 17, 18, 19, 20, 21, 22, 23, 24, 25, 26, 27, 28,\n",
       "       29])"
      ]
     },
     "execution_count": 267,
     "metadata": {},
     "output_type": "execute_result"
    }
   ],
   "source": [
    "np.tile(ar, 4) # просто повторяет массив и загоняет его в новый массив"
   ]
  },
  {
   "cell_type": "code",
   "execution_count": null,
   "id": "c704c17b-4d3b-4aa2-a63b-b5c75b6d35b5",
   "metadata": {},
   "outputs": [],
   "source": []
  }
 ],
 "metadata": {
  "kernelspec": {
   "display_name": "Python 3 (ipykernel)",
   "language": "python",
   "name": "python3"
  },
  "language_info": {
   "codemirror_mode": {
    "name": "ipython",
    "version": 3
   },
   "file_extension": ".py",
   "mimetype": "text/x-python",
   "name": "python",
   "nbconvert_exporter": "python",
   "pygments_lexer": "ipython3",
   "version": "3.9.12"
  }
 },
 "nbformat": 4,
 "nbformat_minor": 5
}
